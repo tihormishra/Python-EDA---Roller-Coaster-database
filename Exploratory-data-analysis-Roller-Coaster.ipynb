{
 "cells": [
  {
   "cell_type": "code",
   "execution_count": 1,
   "id": "7daf9201",
   "metadata": {
    "_cell_guid": "b1076dfc-b9ad-4769-8c92-a6c4dae69d19",
    "_uuid": "8f2839f25d086af736a60e9eeb907d3b93b6e0e5",
    "execution": {
     "iopub.execute_input": "2021-12-31T22:25:23.602891Z",
     "iopub.status.busy": "2021-12-31T22:25:23.602152Z",
     "iopub.status.idle": "2021-12-31T22:25:24.521531Z",
     "shell.execute_reply": "2021-12-31T22:25:24.520395Z",
     "shell.execute_reply.started": "2021-12-31T18:56:46.354032Z"
    },
    "papermill": {
     "duration": 0.950081,
     "end_time": "2021-12-31T22:25:24.521694",
     "exception": false,
     "start_time": "2021-12-31T22:25:23.571613",
     "status": "completed"
    },
    "tags": []
   },
   "outputs": [],
   "source": [
    "import pandas as pd\n",
    "import numpy as np\n",
    "import matplotlib.pylab as plt\n",
    "import seaborn as sns\n",
    "plt.style.use('ggplot')\n",
    "pd.set_option('max_columns', 200)"
   ]
  },
  {
   "cell_type": "code",
   "execution_count": 2,
   "id": "2a5739ac",
   "metadata": {
    "execution": {
     "iopub.execute_input": "2021-12-31T22:25:24.564658Z",
     "iopub.status.busy": "2021-12-31T22:25:24.564076Z",
     "iopub.status.idle": "2021-12-31T22:25:24.610337Z",
     "shell.execute_reply": "2021-12-31T22:25:24.610862Z",
     "shell.execute_reply.started": "2021-12-31T18:56:46.639684Z"
    },
    "papermill": {
     "duration": 0.070227,
     "end_time": "2021-12-31T22:25:24.611069",
     "exception": false,
     "start_time": "2021-12-31T22:25:24.540842",
     "status": "completed"
    },
    "tags": []
   },
   "outputs": [],
   "source": [
    "df = pd.read_csv('../input/rollercoaster-database/coaster_db.csv')"
   ]
  },
  {
   "cell_type": "code",
   "execution_count": 3,
   "id": "aa4d87d1",
   "metadata": {
    "execution": {
     "iopub.execute_input": "2021-12-31T22:25:24.709419Z",
     "iopub.status.busy": "2021-12-31T22:25:24.708682Z",
     "iopub.status.idle": "2021-12-31T22:25:24.715565Z",
     "shell.execute_reply": "2021-12-31T22:25:24.716156Z",
     "shell.execute_reply.started": "2021-12-31T18:56:47.269977Z"
    },
    "papermill": {
     "duration": 0.029721,
     "end_time": "2021-12-31T22:25:24.716333",
     "exception": false,
     "start_time": "2021-12-31T22:25:24.686612",
     "status": "completed"
    },
    "tags": []
   },
   "outputs": [
    {
     "data": {
      "text/plain": [
       "(1087, 56)"
      ]
     },
     "execution_count": 3,
     "metadata": {},
     "output_type": "execute_result"
    }
   ],
   "source": [
    "df.shape"
   ]
  },
  {
   "cell_type": "code",
   "execution_count": 4,
   "id": "b715dee1",
   "metadata": {
    "execution": {
     "iopub.execute_input": "2021-12-31T22:25:24.761314Z",
     "iopub.status.busy": "2021-12-31T22:25:24.760448Z",
     "iopub.status.idle": "2021-12-31T22:25:24.804716Z",
     "shell.execute_reply": "2021-12-31T22:25:24.805191Z",
     "shell.execute_reply.started": "2021-12-31T18:56:47.613509Z"
    },
    "papermill": {
     "duration": 0.068471,
     "end_time": "2021-12-31T22:25:24.805357",
     "exception": false,
     "start_time": "2021-12-31T22:25:24.736886",
     "status": "completed"
    },
    "scrolled": true,
    "tags": []
   },
   "outputs": [
    {
     "data": {
      "text/html": [
       "<div>\n",
       "<style scoped>\n",
       "    .dataframe tbody tr th:only-of-type {\n",
       "        vertical-align: middle;\n",
       "    }\n",
       "\n",
       "    .dataframe tbody tr th {\n",
       "        vertical-align: top;\n",
       "    }\n",
       "\n",
       "    .dataframe thead th {\n",
       "        text-align: right;\n",
       "    }\n",
       "</style>\n",
       "<table border=\"1\" class=\"dataframe\">\n",
       "  <thead>\n",
       "    <tr style=\"text-align: right;\">\n",
       "      <th></th>\n",
       "      <th>coaster_name</th>\n",
       "      <th>Length</th>\n",
       "      <th>Speed</th>\n",
       "      <th>Location</th>\n",
       "      <th>Status</th>\n",
       "      <th>Opening date</th>\n",
       "      <th>Type</th>\n",
       "      <th>Manufacturer</th>\n",
       "      <th>Height restriction</th>\n",
       "      <th>Model</th>\n",
       "      <th>Height</th>\n",
       "      <th>Inversions</th>\n",
       "      <th>Lift/launch system</th>\n",
       "      <th>Cost</th>\n",
       "      <th>Trains</th>\n",
       "      <th>Park section</th>\n",
       "      <th>Duration</th>\n",
       "      <th>Capacity</th>\n",
       "      <th>G-force</th>\n",
       "      <th>Designer</th>\n",
       "      <th>Max vertical angle</th>\n",
       "      <th>Drop</th>\n",
       "      <th>Soft opening date</th>\n",
       "      <th>Fast Lane available</th>\n",
       "      <th>Replaced</th>\n",
       "      <th>Track layout</th>\n",
       "      <th>Fastrack available</th>\n",
       "      <th>Soft opening date.1</th>\n",
       "      <th>Closing date</th>\n",
       "      <th>Opened</th>\n",
       "      <th>Replaced by</th>\n",
       "      <th>Website</th>\n",
       "      <th>Flash Pass Available</th>\n",
       "      <th>Must transfer from wheelchair</th>\n",
       "      <th>Theme</th>\n",
       "      <th>Single rider line available</th>\n",
       "      <th>Restraint Style</th>\n",
       "      <th>Flash Pass available</th>\n",
       "      <th>Acceleration</th>\n",
       "      <th>Restraints</th>\n",
       "      <th>Name</th>\n",
       "      <th>year_introduced</th>\n",
       "      <th>latitude</th>\n",
       "      <th>longitude</th>\n",
       "      <th>Type_Main</th>\n",
       "      <th>opening_date_clean</th>\n",
       "      <th>speed1</th>\n",
       "      <th>speed2</th>\n",
       "      <th>speed1_value</th>\n",
       "      <th>speed1_unit</th>\n",
       "      <th>speed_mph</th>\n",
       "      <th>height_value</th>\n",
       "      <th>height_unit</th>\n",
       "      <th>height_ft</th>\n",
       "      <th>Inversions_clean</th>\n",
       "      <th>Gforce_clean</th>\n",
       "    </tr>\n",
       "  </thead>\n",
       "  <tbody>\n",
       "    <tr>\n",
       "      <th>0</th>\n",
       "      <td>Switchback Railway</td>\n",
       "      <td>600 ft (180 m)</td>\n",
       "      <td>6 mph (9.7 km/h)</td>\n",
       "      <td>Coney Island</td>\n",
       "      <td>Removed</td>\n",
       "      <td>June 16, 1884</td>\n",
       "      <td>Wood</td>\n",
       "      <td>LaMarcus Adna Thompson</td>\n",
       "      <td>NaN</td>\n",
       "      <td>Lift Packed</td>\n",
       "      <td>50 ft (15 m)</td>\n",
       "      <td>NaN</td>\n",
       "      <td>gravity</td>\n",
       "      <td>NaN</td>\n",
       "      <td>NaN</td>\n",
       "      <td>Coney Island Cyclone Site</td>\n",
       "      <td>1:00</td>\n",
       "      <td>1600 riders per hour</td>\n",
       "      <td>2.9</td>\n",
       "      <td>LaMarcus Adna Thompson</td>\n",
       "      <td>30°</td>\n",
       "      <td>43 ft (13 m)</td>\n",
       "      <td>NaN</td>\n",
       "      <td>NaN</td>\n",
       "      <td>NaN</td>\n",
       "      <td>Gravity pulled coaster</td>\n",
       "      <td>NaN</td>\n",
       "      <td>NaN</td>\n",
       "      <td>NaN</td>\n",
       "      <td>NaN</td>\n",
       "      <td>NaN</td>\n",
       "      <td>NaN</td>\n",
       "      <td>NaN</td>\n",
       "      <td>NaN</td>\n",
       "      <td>NaN</td>\n",
       "      <td>NaN</td>\n",
       "      <td>NaN</td>\n",
       "      <td>NaN</td>\n",
       "      <td>NaN</td>\n",
       "      <td>NaN</td>\n",
       "      <td>NaN</td>\n",
       "      <td>1884</td>\n",
       "      <td>40.5740</td>\n",
       "      <td>-73.9780</td>\n",
       "      <td>Wood</td>\n",
       "      <td>1884-06-16</td>\n",
       "      <td>6 mph</td>\n",
       "      <td>9.7 km/h</td>\n",
       "      <td>6.0</td>\n",
       "      <td>mph</td>\n",
       "      <td>6.0</td>\n",
       "      <td>50.0</td>\n",
       "      <td>ft</td>\n",
       "      <td>NaN</td>\n",
       "      <td>0</td>\n",
       "      <td>2.9</td>\n",
       "    </tr>\n",
       "    <tr>\n",
       "      <th>1</th>\n",
       "      <td>Flip Flap Railway</td>\n",
       "      <td>NaN</td>\n",
       "      <td>NaN</td>\n",
       "      <td>Sea Lion Park</td>\n",
       "      <td>Removed</td>\n",
       "      <td>1895</td>\n",
       "      <td>Wood</td>\n",
       "      <td>Lina Beecher</td>\n",
       "      <td>NaN</td>\n",
       "      <td>NaN</td>\n",
       "      <td>NaN</td>\n",
       "      <td>1.0</td>\n",
       "      <td>NaN</td>\n",
       "      <td>NaN</td>\n",
       "      <td>a single car. Riders are arranged 1 across in ...</td>\n",
       "      <td>NaN</td>\n",
       "      <td>NaN</td>\n",
       "      <td>NaN</td>\n",
       "      <td>12</td>\n",
       "      <td>Lina Beecher</td>\n",
       "      <td>NaN</td>\n",
       "      <td>NaN</td>\n",
       "      <td>NaN</td>\n",
       "      <td>NaN</td>\n",
       "      <td>NaN</td>\n",
       "      <td>NaN</td>\n",
       "      <td>NaN</td>\n",
       "      <td>NaN</td>\n",
       "      <td>1902</td>\n",
       "      <td>NaN</td>\n",
       "      <td>NaN</td>\n",
       "      <td>NaN</td>\n",
       "      <td>NaN</td>\n",
       "      <td>NaN</td>\n",
       "      <td>NaN</td>\n",
       "      <td>NaN</td>\n",
       "      <td>NaN</td>\n",
       "      <td>NaN</td>\n",
       "      <td>NaN</td>\n",
       "      <td>NaN</td>\n",
       "      <td>NaN</td>\n",
       "      <td>1895</td>\n",
       "      <td>40.5780</td>\n",
       "      <td>-73.9790</td>\n",
       "      <td>Wood</td>\n",
       "      <td>1895-01-01</td>\n",
       "      <td>NaN</td>\n",
       "      <td>NaN</td>\n",
       "      <td>NaN</td>\n",
       "      <td>NaN</td>\n",
       "      <td>NaN</td>\n",
       "      <td>NaN</td>\n",
       "      <td>NaN</td>\n",
       "      <td>NaN</td>\n",
       "      <td>1</td>\n",
       "      <td>12.0</td>\n",
       "    </tr>\n",
       "    <tr>\n",
       "      <th>2</th>\n",
       "      <td>Switchback Railway (Euclid Beach Park)</td>\n",
       "      <td>NaN</td>\n",
       "      <td>NaN</td>\n",
       "      <td>Cleveland, Ohio, United States</td>\n",
       "      <td>Closed</td>\n",
       "      <td>NaN</td>\n",
       "      <td>Other</td>\n",
       "      <td>NaN</td>\n",
       "      <td>NaN</td>\n",
       "      <td>NaN</td>\n",
       "      <td>NaN</td>\n",
       "      <td>NaN</td>\n",
       "      <td>NaN</td>\n",
       "      <td>NaN</td>\n",
       "      <td>NaN</td>\n",
       "      <td>NaN</td>\n",
       "      <td>NaN</td>\n",
       "      <td>NaN</td>\n",
       "      <td>NaN</td>\n",
       "      <td>NaN</td>\n",
       "      <td>NaN</td>\n",
       "      <td>NaN</td>\n",
       "      <td>NaN</td>\n",
       "      <td>NaN</td>\n",
       "      <td>NaN</td>\n",
       "      <td>NaN</td>\n",
       "      <td>NaN</td>\n",
       "      <td>NaN</td>\n",
       "      <td>NaN</td>\n",
       "      <td>1895</td>\n",
       "      <td>NaN</td>\n",
       "      <td>NaN</td>\n",
       "      <td>NaN</td>\n",
       "      <td>NaN</td>\n",
       "      <td>NaN</td>\n",
       "      <td>NaN</td>\n",
       "      <td>NaN</td>\n",
       "      <td>NaN</td>\n",
       "      <td>NaN</td>\n",
       "      <td>NaN</td>\n",
       "      <td>NaN</td>\n",
       "      <td>1896</td>\n",
       "      <td>41.5800</td>\n",
       "      <td>-81.5700</td>\n",
       "      <td>Other</td>\n",
       "      <td>NaN</td>\n",
       "      <td>NaN</td>\n",
       "      <td>NaN</td>\n",
       "      <td>NaN</td>\n",
       "      <td>NaN</td>\n",
       "      <td>NaN</td>\n",
       "      <td>NaN</td>\n",
       "      <td>NaN</td>\n",
       "      <td>NaN</td>\n",
       "      <td>0</td>\n",
       "      <td>NaN</td>\n",
       "    </tr>\n",
       "    <tr>\n",
       "      <th>3</th>\n",
       "      <td>Loop the Loop (Coney Island)</td>\n",
       "      <td>NaN</td>\n",
       "      <td>NaN</td>\n",
       "      <td>Other</td>\n",
       "      <td>Removed</td>\n",
       "      <td>1901</td>\n",
       "      <td>Steel</td>\n",
       "      <td>Edwin Prescott</td>\n",
       "      <td>NaN</td>\n",
       "      <td>NaN</td>\n",
       "      <td>NaN</td>\n",
       "      <td>1.0</td>\n",
       "      <td>NaN</td>\n",
       "      <td>NaN</td>\n",
       "      <td>a single car. Riders are arranged 2 across in ...</td>\n",
       "      <td>NaN</td>\n",
       "      <td>NaN</td>\n",
       "      <td>NaN</td>\n",
       "      <td>NaN</td>\n",
       "      <td>Edward A. Green</td>\n",
       "      <td>NaN</td>\n",
       "      <td>NaN</td>\n",
       "      <td>NaN</td>\n",
       "      <td>NaN</td>\n",
       "      <td>Switchback Railway</td>\n",
       "      <td>NaN</td>\n",
       "      <td>NaN</td>\n",
       "      <td>NaN</td>\n",
       "      <td>1910</td>\n",
       "      <td>NaN</td>\n",
       "      <td>Giant Racer</td>\n",
       "      <td>NaN</td>\n",
       "      <td>NaN</td>\n",
       "      <td>NaN</td>\n",
       "      <td>NaN</td>\n",
       "      <td>NaN</td>\n",
       "      <td>NaN</td>\n",
       "      <td>NaN</td>\n",
       "      <td>NaN</td>\n",
       "      <td>NaN</td>\n",
       "      <td>NaN</td>\n",
       "      <td>1901</td>\n",
       "      <td>40.5745</td>\n",
       "      <td>-73.9780</td>\n",
       "      <td>Steel</td>\n",
       "      <td>1901-01-01</td>\n",
       "      <td>NaN</td>\n",
       "      <td>NaN</td>\n",
       "      <td>NaN</td>\n",
       "      <td>NaN</td>\n",
       "      <td>NaN</td>\n",
       "      <td>NaN</td>\n",
       "      <td>NaN</td>\n",
       "      <td>NaN</td>\n",
       "      <td>1</td>\n",
       "      <td>NaN</td>\n",
       "    </tr>\n",
       "    <tr>\n",
       "      <th>4</th>\n",
       "      <td>Loop the Loop (Young's Pier)</td>\n",
       "      <td>NaN</td>\n",
       "      <td>NaN</td>\n",
       "      <td>Other</td>\n",
       "      <td>Removed</td>\n",
       "      <td>1901</td>\n",
       "      <td>Steel</td>\n",
       "      <td>Edwin Prescott</td>\n",
       "      <td>NaN</td>\n",
       "      <td>NaN</td>\n",
       "      <td>NaN</td>\n",
       "      <td>1.0</td>\n",
       "      <td>NaN</td>\n",
       "      <td>NaN</td>\n",
       "      <td>NaN</td>\n",
       "      <td>NaN</td>\n",
       "      <td>NaN</td>\n",
       "      <td>NaN</td>\n",
       "      <td>NaN</td>\n",
       "      <td>Edward A. Green</td>\n",
       "      <td>NaN</td>\n",
       "      <td>NaN</td>\n",
       "      <td>NaN</td>\n",
       "      <td>NaN</td>\n",
       "      <td>NaN</td>\n",
       "      <td>NaN</td>\n",
       "      <td>NaN</td>\n",
       "      <td>NaN</td>\n",
       "      <td>1912</td>\n",
       "      <td>NaN</td>\n",
       "      <td>NaN</td>\n",
       "      <td>NaN</td>\n",
       "      <td>NaN</td>\n",
       "      <td>NaN</td>\n",
       "      <td>NaN</td>\n",
       "      <td>NaN</td>\n",
       "      <td>NaN</td>\n",
       "      <td>NaN</td>\n",
       "      <td>NaN</td>\n",
       "      <td>NaN</td>\n",
       "      <td>NaN</td>\n",
       "      <td>1901</td>\n",
       "      <td>39.3538</td>\n",
       "      <td>-74.4342</td>\n",
       "      <td>Steel</td>\n",
       "      <td>1901-01-01</td>\n",
       "      <td>NaN</td>\n",
       "      <td>NaN</td>\n",
       "      <td>NaN</td>\n",
       "      <td>NaN</td>\n",
       "      <td>NaN</td>\n",
       "      <td>NaN</td>\n",
       "      <td>NaN</td>\n",
       "      <td>NaN</td>\n",
       "      <td>1</td>\n",
       "      <td>NaN</td>\n",
       "    </tr>\n",
       "  </tbody>\n",
       "</table>\n",
       "</div>"
      ],
      "text/plain": [
       "                             coaster_name          Length             Speed  \\\n",
       "0                      Switchback Railway  600 ft (180 m)  6 mph (9.7 km/h)   \n",
       "1                       Flip Flap Railway             NaN               NaN   \n",
       "2  Switchback Railway (Euclid Beach Park)             NaN               NaN   \n",
       "3            Loop the Loop (Coney Island)             NaN               NaN   \n",
       "4            Loop the Loop (Young's Pier)             NaN               NaN   \n",
       "\n",
       "                         Location   Status   Opening date   Type  \\\n",
       "0                    Coney Island  Removed  June 16, 1884   Wood   \n",
       "1                   Sea Lion Park  Removed           1895   Wood   \n",
       "2  Cleveland, Ohio, United States   Closed            NaN  Other   \n",
       "3                           Other  Removed           1901  Steel   \n",
       "4                           Other  Removed           1901  Steel   \n",
       "\n",
       "             Manufacturer Height restriction        Model        Height  \\\n",
       "0  LaMarcus Adna Thompson                NaN  Lift Packed  50 ft (15 m)   \n",
       "1            Lina Beecher                NaN          NaN           NaN   \n",
       "2                     NaN                NaN          NaN           NaN   \n",
       "3          Edwin Prescott                NaN          NaN           NaN   \n",
       "4          Edwin Prescott                NaN          NaN           NaN   \n",
       "\n",
       "   Inversions Lift/launch system Cost  \\\n",
       "0         NaN            gravity  NaN   \n",
       "1         1.0                NaN  NaN   \n",
       "2         NaN                NaN  NaN   \n",
       "3         1.0                NaN  NaN   \n",
       "4         1.0                NaN  NaN   \n",
       "\n",
       "                                              Trains  \\\n",
       "0                                                NaN   \n",
       "1  a single car. Riders are arranged 1 across in ...   \n",
       "2                                                NaN   \n",
       "3  a single car. Riders are arranged 2 across in ...   \n",
       "4                                                NaN   \n",
       "\n",
       "                Park section Duration              Capacity G-force  \\\n",
       "0  Coney Island Cyclone Site     1:00  1600 riders per hour     2.9   \n",
       "1                        NaN      NaN                   NaN      12   \n",
       "2                        NaN      NaN                   NaN     NaN   \n",
       "3                        NaN      NaN                   NaN     NaN   \n",
       "4                        NaN      NaN                   NaN     NaN   \n",
       "\n",
       "                 Designer Max vertical angle          Drop Soft opening date  \\\n",
       "0  LaMarcus Adna Thompson                30°  43 ft (13 m)               NaN   \n",
       "1            Lina Beecher                NaN           NaN               NaN   \n",
       "2                     NaN                NaN           NaN               NaN   \n",
       "3         Edward A. Green                NaN           NaN               NaN   \n",
       "4         Edward A. Green                NaN           NaN               NaN   \n",
       "\n",
       "  Fast Lane available            Replaced            Track layout  \\\n",
       "0                 NaN                 NaN  Gravity pulled coaster   \n",
       "1                 NaN                 NaN                     NaN   \n",
       "2                 NaN                 NaN                     NaN   \n",
       "3                 NaN  Switchback Railway                     NaN   \n",
       "4                 NaN                 NaN                     NaN   \n",
       "\n",
       "  Fastrack available Soft opening date.1 Closing date Opened  Replaced by  \\\n",
       "0                NaN                 NaN          NaN    NaN          NaN   \n",
       "1                NaN                 NaN         1902    NaN          NaN   \n",
       "2                NaN                 NaN          NaN   1895          NaN   \n",
       "3                NaN                 NaN         1910    NaN  Giant Racer   \n",
       "4                NaN                 NaN         1912    NaN          NaN   \n",
       "\n",
       "  Website Flash Pass Available Must transfer from wheelchair Theme  \\\n",
       "0     NaN                  NaN                           NaN   NaN   \n",
       "1     NaN                  NaN                           NaN   NaN   \n",
       "2     NaN                  NaN                           NaN   NaN   \n",
       "3     NaN                  NaN                           NaN   NaN   \n",
       "4     NaN                  NaN                           NaN   NaN   \n",
       "\n",
       "  Single rider line available Restraint Style Flash Pass available  \\\n",
       "0                         NaN             NaN                  NaN   \n",
       "1                         NaN             NaN                  NaN   \n",
       "2                         NaN             NaN                  NaN   \n",
       "3                         NaN             NaN                  NaN   \n",
       "4                         NaN             NaN                  NaN   \n",
       "\n",
       "  Acceleration Restraints Name  year_introduced  latitude  longitude  \\\n",
       "0          NaN        NaN  NaN             1884   40.5740   -73.9780   \n",
       "1          NaN        NaN  NaN             1895   40.5780   -73.9790   \n",
       "2          NaN        NaN  NaN             1896   41.5800   -81.5700   \n",
       "3          NaN        NaN  NaN             1901   40.5745   -73.9780   \n",
       "4          NaN        NaN  NaN             1901   39.3538   -74.4342   \n",
       "\n",
       "  Type_Main opening_date_clean  speed1    speed2  speed1_value speed1_unit  \\\n",
       "0      Wood         1884-06-16  6 mph   9.7 km/h           6.0         mph   \n",
       "1      Wood         1895-01-01     NaN       NaN           NaN         NaN   \n",
       "2     Other                NaN     NaN       NaN           NaN         NaN   \n",
       "3     Steel         1901-01-01     NaN       NaN           NaN         NaN   \n",
       "4     Steel         1901-01-01     NaN       NaN           NaN         NaN   \n",
       "\n",
       "   speed_mph  height_value height_unit  height_ft  Inversions_clean  \\\n",
       "0        6.0          50.0          ft        NaN                 0   \n",
       "1        NaN           NaN         NaN        NaN                 1   \n",
       "2        NaN           NaN         NaN        NaN                 0   \n",
       "3        NaN           NaN         NaN        NaN                 1   \n",
       "4        NaN           NaN         NaN        NaN                 1   \n",
       "\n",
       "   Gforce_clean  \n",
       "0           2.9  \n",
       "1          12.0  \n",
       "2           NaN  \n",
       "3           NaN  \n",
       "4           NaN  "
      ]
     },
     "execution_count": 4,
     "metadata": {},
     "output_type": "execute_result"
    }
   ],
   "source": [
    "df.head(5)"
   ]
  },
  {
   "cell_type": "code",
   "execution_count": 5,
   "id": "17f9e607",
   "metadata": {
    "execution": {
     "iopub.execute_input": "2021-12-31T22:25:24.849170Z",
     "iopub.status.busy": "2021-12-31T22:25:24.848311Z",
     "iopub.status.idle": "2021-12-31T22:25:24.853588Z",
     "shell.execute_reply": "2021-12-31T22:25:24.854030Z",
     "shell.execute_reply.started": "2021-12-31T18:56:47.948571Z"
    },
    "papermill": {
     "duration": 0.028414,
     "end_time": "2021-12-31T22:25:24.854178",
     "exception": false,
     "start_time": "2021-12-31T22:25:24.825764",
     "status": "completed"
    },
    "tags": []
   },
   "outputs": [
    {
     "data": {
      "text/plain": [
       "Index(['coaster_name', 'Length', 'Speed', 'Location', 'Status', 'Opening date',\n",
       "       'Type', 'Manufacturer', 'Height restriction', 'Model', 'Height',\n",
       "       'Inversions', 'Lift/launch system', 'Cost', 'Trains', 'Park section',\n",
       "       'Duration', 'Capacity', 'G-force', 'Designer', 'Max vertical angle',\n",
       "       'Drop', 'Soft opening date', 'Fast Lane available', 'Replaced',\n",
       "       'Track layout', 'Fastrack available', 'Soft opening date.1',\n",
       "       'Closing date', 'Opened', 'Replaced by', 'Website',\n",
       "       'Flash Pass Available', 'Must transfer from wheelchair', 'Theme',\n",
       "       'Single rider line available', 'Restraint Style',\n",
       "       'Flash Pass available', 'Acceleration', 'Restraints', 'Name',\n",
       "       'year_introduced', 'latitude', 'longitude', 'Type_Main',\n",
       "       'opening_date_clean', 'speed1', 'speed2', 'speed1_value', 'speed1_unit',\n",
       "       'speed_mph', 'height_value', 'height_unit', 'height_ft',\n",
       "       'Inversions_clean', 'Gforce_clean'],\n",
       "      dtype='object')"
      ]
     },
     "execution_count": 5,
     "metadata": {},
     "output_type": "execute_result"
    }
   ],
   "source": [
    "df.columns"
   ]
  },
  {
   "cell_type": "code",
   "execution_count": 6,
   "id": "1e2c996e",
   "metadata": {
    "execution": {
     "iopub.execute_input": "2021-12-31T22:25:24.898226Z",
     "iopub.status.busy": "2021-12-31T22:25:24.897360Z",
     "iopub.status.idle": "2021-12-31T22:25:24.903993Z",
     "shell.execute_reply": "2021-12-31T22:25:24.904425Z",
     "shell.execute_reply.started": "2021-12-31T18:56:48.283347Z"
    },
    "papermill": {
     "duration": 0.030131,
     "end_time": "2021-12-31T22:25:24.904578",
     "exception": false,
     "start_time": "2021-12-31T22:25:24.874447",
     "status": "completed"
    },
    "tags": []
   },
   "outputs": [
    {
     "data": {
      "text/plain": [
       "coaster_name                      object\n",
       "Length                            object\n",
       "Speed                             object\n",
       "Location                          object\n",
       "Status                            object\n",
       "Opening date                      object\n",
       "Type                              object\n",
       "Manufacturer                      object\n",
       "Height restriction                object\n",
       "Model                             object\n",
       "Height                            object\n",
       "Inversions                       float64\n",
       "Lift/launch system                object\n",
       "Cost                              object\n",
       "Trains                            object\n",
       "Park section                      object\n",
       "Duration                          object\n",
       "Capacity                          object\n",
       "G-force                           object\n",
       "Designer                          object\n",
       "Max vertical angle                object\n",
       "Drop                              object\n",
       "Soft opening date                 object\n",
       "Fast Lane available               object\n",
       "Replaced                          object\n",
       "Track layout                      object\n",
       "Fastrack available                object\n",
       "Soft opening date.1               object\n",
       "Closing date                      object\n",
       "Opened                            object\n",
       "Replaced by                       object\n",
       "Website                           object\n",
       "Flash Pass Available              object\n",
       "Must transfer from wheelchair     object\n",
       "Theme                             object\n",
       "Single rider line available       object\n",
       "Restraint Style                   object\n",
       "Flash Pass available              object\n",
       "Acceleration                      object\n",
       "Restraints                        object\n",
       "Name                              object\n",
       "year_introduced                    int64\n",
       "latitude                         float64\n",
       "longitude                        float64\n",
       "Type_Main                         object\n",
       "opening_date_clean                object\n",
       "speed1                            object\n",
       "speed2                            object\n",
       "speed1_value                     float64\n",
       "speed1_unit                       object\n",
       "speed_mph                        float64\n",
       "height_value                     float64\n",
       "height_unit                       object\n",
       "height_ft                        float64\n",
       "Inversions_clean                   int64\n",
       "Gforce_clean                     float64\n",
       "dtype: object"
      ]
     },
     "execution_count": 6,
     "metadata": {},
     "output_type": "execute_result"
    }
   ],
   "source": [
    "df.dtypes"
   ]
  },
  {
   "cell_type": "code",
   "execution_count": 7,
   "id": "72643f56",
   "metadata": {
    "execution": {
     "iopub.execute_input": "2021-12-31T22:25:24.949624Z",
     "iopub.status.busy": "2021-12-31T22:25:24.948743Z",
     "iopub.status.idle": "2021-12-31T22:25:24.990587Z",
     "shell.execute_reply": "2021-12-31T22:25:24.991040Z",
     "shell.execute_reply.started": "2021-12-31T18:56:48.648007Z"
    },
    "papermill": {
     "duration": 0.065671,
     "end_time": "2021-12-31T22:25:24.991200",
     "exception": false,
     "start_time": "2021-12-31T22:25:24.925529",
     "status": "completed"
    },
    "tags": []
   },
   "outputs": [
    {
     "data": {
      "text/html": [
       "<div>\n",
       "<style scoped>\n",
       "    .dataframe tbody tr th:only-of-type {\n",
       "        vertical-align: middle;\n",
       "    }\n",
       "\n",
       "    .dataframe tbody tr th {\n",
       "        vertical-align: top;\n",
       "    }\n",
       "\n",
       "    .dataframe thead th {\n",
       "        text-align: right;\n",
       "    }\n",
       "</style>\n",
       "<table border=\"1\" class=\"dataframe\">\n",
       "  <thead>\n",
       "    <tr style=\"text-align: right;\">\n",
       "      <th></th>\n",
       "      <th>Inversions</th>\n",
       "      <th>year_introduced</th>\n",
       "      <th>latitude</th>\n",
       "      <th>longitude</th>\n",
       "      <th>speed1_value</th>\n",
       "      <th>speed_mph</th>\n",
       "      <th>height_value</th>\n",
       "      <th>height_ft</th>\n",
       "      <th>Inversions_clean</th>\n",
       "      <th>Gforce_clean</th>\n",
       "    </tr>\n",
       "  </thead>\n",
       "  <tbody>\n",
       "    <tr>\n",
       "      <th>count</th>\n",
       "      <td>932.000000</td>\n",
       "      <td>1087.000000</td>\n",
       "      <td>812.000000</td>\n",
       "      <td>812.000000</td>\n",
       "      <td>937.000000</td>\n",
       "      <td>937.000000</td>\n",
       "      <td>965.000000</td>\n",
       "      <td>171.000000</td>\n",
       "      <td>1087.000000</td>\n",
       "      <td>362.000000</td>\n",
       "    </tr>\n",
       "    <tr>\n",
       "      <th>mean</th>\n",
       "      <td>1.547210</td>\n",
       "      <td>1994.986201</td>\n",
       "      <td>38.373484</td>\n",
       "      <td>-41.595373</td>\n",
       "      <td>53.850374</td>\n",
       "      <td>48.617289</td>\n",
       "      <td>89.575171</td>\n",
       "      <td>101.996491</td>\n",
       "      <td>1.326587</td>\n",
       "      <td>3.824006</td>\n",
       "    </tr>\n",
       "    <tr>\n",
       "      <th>std</th>\n",
       "      <td>2.114073</td>\n",
       "      <td>23.475248</td>\n",
       "      <td>15.516596</td>\n",
       "      <td>72.285227</td>\n",
       "      <td>23.385518</td>\n",
       "      <td>16.678031</td>\n",
       "      <td>136.246444</td>\n",
       "      <td>67.329092</td>\n",
       "      <td>2.030854</td>\n",
       "      <td>0.989998</td>\n",
       "    </tr>\n",
       "    <tr>\n",
       "      <th>min</th>\n",
       "      <td>0.000000</td>\n",
       "      <td>1884.000000</td>\n",
       "      <td>-48.261700</td>\n",
       "      <td>-123.035700</td>\n",
       "      <td>5.000000</td>\n",
       "      <td>5.000000</td>\n",
       "      <td>4.000000</td>\n",
       "      <td>13.100000</td>\n",
       "      <td>0.000000</td>\n",
       "      <td>0.800000</td>\n",
       "    </tr>\n",
       "    <tr>\n",
       "      <th>25%</th>\n",
       "      <td>0.000000</td>\n",
       "      <td>1989.000000</td>\n",
       "      <td>35.031050</td>\n",
       "      <td>-84.552200</td>\n",
       "      <td>40.000000</td>\n",
       "      <td>37.300000</td>\n",
       "      <td>44.000000</td>\n",
       "      <td>51.800000</td>\n",
       "      <td>0.000000</td>\n",
       "      <td>3.400000</td>\n",
       "    </tr>\n",
       "    <tr>\n",
       "      <th>50%</th>\n",
       "      <td>0.000000</td>\n",
       "      <td>2000.000000</td>\n",
       "      <td>40.289800</td>\n",
       "      <td>-76.653600</td>\n",
       "      <td>50.000000</td>\n",
       "      <td>49.700000</td>\n",
       "      <td>79.000000</td>\n",
       "      <td>91.200000</td>\n",
       "      <td>0.000000</td>\n",
       "      <td>4.000000</td>\n",
       "    </tr>\n",
       "    <tr>\n",
       "      <th>75%</th>\n",
       "      <td>3.000000</td>\n",
       "      <td>2010.000000</td>\n",
       "      <td>44.799600</td>\n",
       "      <td>2.778100</td>\n",
       "      <td>63.000000</td>\n",
       "      <td>58.000000</td>\n",
       "      <td>113.000000</td>\n",
       "      <td>131.200000</td>\n",
       "      <td>2.000000</td>\n",
       "      <td>4.500000</td>\n",
       "    </tr>\n",
       "    <tr>\n",
       "      <th>max</th>\n",
       "      <td>14.000000</td>\n",
       "      <td>2022.000000</td>\n",
       "      <td>63.230900</td>\n",
       "      <td>153.426500</td>\n",
       "      <td>240.000000</td>\n",
       "      <td>149.100000</td>\n",
       "      <td>3937.000000</td>\n",
       "      <td>377.300000</td>\n",
       "      <td>14.000000</td>\n",
       "      <td>12.000000</td>\n",
       "    </tr>\n",
       "  </tbody>\n",
       "</table>\n",
       "</div>"
      ],
      "text/plain": [
       "       Inversions  year_introduced    latitude   longitude  speed1_value  \\\n",
       "count  932.000000      1087.000000  812.000000  812.000000    937.000000   \n",
       "mean     1.547210      1994.986201   38.373484  -41.595373     53.850374   \n",
       "std      2.114073        23.475248   15.516596   72.285227     23.385518   \n",
       "min      0.000000      1884.000000  -48.261700 -123.035700      5.000000   \n",
       "25%      0.000000      1989.000000   35.031050  -84.552200     40.000000   \n",
       "50%      0.000000      2000.000000   40.289800  -76.653600     50.000000   \n",
       "75%      3.000000      2010.000000   44.799600    2.778100     63.000000   \n",
       "max     14.000000      2022.000000   63.230900  153.426500    240.000000   \n",
       "\n",
       "        speed_mph  height_value   height_ft  Inversions_clean  Gforce_clean  \n",
       "count  937.000000    965.000000  171.000000       1087.000000    362.000000  \n",
       "mean    48.617289     89.575171  101.996491          1.326587      3.824006  \n",
       "std     16.678031    136.246444   67.329092          2.030854      0.989998  \n",
       "min      5.000000      4.000000   13.100000          0.000000      0.800000  \n",
       "25%     37.300000     44.000000   51.800000          0.000000      3.400000  \n",
       "50%     49.700000     79.000000   91.200000          0.000000      4.000000  \n",
       "75%     58.000000    113.000000  131.200000          2.000000      4.500000  \n",
       "max    149.100000   3937.000000  377.300000         14.000000     12.000000  "
      ]
     },
     "execution_count": 7,
     "metadata": {},
     "output_type": "execute_result"
    }
   ],
   "source": [
    "df.describe()"
   ]
  },
  {
   "cell_type": "code",
   "execution_count": 9,
   "id": "3fbf853c",
   "metadata": {
    "execution": {
     "iopub.execute_input": "2021-12-31T22:25:25.146203Z",
     "iopub.status.busy": "2021-12-31T22:25:25.145313Z",
     "iopub.status.idle": "2021-12-31T22:25:25.152191Z",
     "shell.execute_reply": "2021-12-31T22:25:25.151616Z",
     "shell.execute_reply.started": "2021-12-31T19:02:44.759528Z"
    },
    "papermill": {
     "duration": 0.035435,
     "end_time": "2021-12-31T22:25:25.152317",
     "exception": false,
     "start_time": "2021-12-31T22:25:25.116882",
     "status": "completed"
    },
    "tags": []
   },
   "outputs": [],
   "source": [
    "df = df[['coaster_name',\n",
    "    'Location', 'Status',\n",
    "    'Manufacturer',\n",
    "       'year_introduced',\n",
    "        'latitude', 'longitude',\n",
    "    'Type_Main',\n",
    "       'opening_date_clean','speed_mph', \n",
    "    'height_ft',\n",
    "       'Inversions_clean', 'Gforce_clean']].copy()"
   ]
  },
  {
   "cell_type": "code",
   "execution_count": 10,
   "id": "dd89ce3e",
   "metadata": {
    "execution": {
     "iopub.execute_input": "2021-12-31T22:25:25.206413Z",
     "iopub.status.busy": "2021-12-31T22:25:25.205522Z",
     "iopub.status.idle": "2021-12-31T22:25:25.208881Z",
     "shell.execute_reply": "2021-12-31T22:25:25.209403Z",
     "shell.execute_reply.started": "2021-12-31T19:03:34.100799Z"
    },
    "papermill": {
     "duration": 0.033051,
     "end_time": "2021-12-31T22:25:25.209555",
     "exception": false,
     "start_time": "2021-12-31T22:25:25.176504",
     "status": "completed"
    },
    "tags": []
   },
   "outputs": [],
   "source": [
    "df['opening_date_clean'] = pd.to_datetime(df['opening_date_clean'])"
   ]
  },
  {
   "cell_type": "code",
   "execution_count": 11,
   "id": "84e8fa7e",
   "metadata": {
    "execution": {
     "iopub.execute_input": "2021-12-31T22:25:25.257652Z",
     "iopub.status.busy": "2021-12-31T22:25:25.256947Z",
     "iopub.status.idle": "2021-12-31T22:25:25.259576Z",
     "shell.execute_reply": "2021-12-31T22:25:25.259119Z",
     "shell.execute_reply.started": "2021-12-31T19:07:00.936091Z"
    },
    "papermill": {
     "duration": 0.028951,
     "end_time": "2021-12-31T22:25:25.259699",
     "exception": false,
     "start_time": "2021-12-31T22:25:25.230748",
     "status": "completed"
    },
    "tags": []
   },
   "outputs": [],
   "source": [
    "df = df.rename(columns={'coaster_name':'Coaster_Name',\n",
    "                   'year_introduced':'Year_Introduced',\n",
    "                   'opening_date_clean':'Opening_Date',\n",
    "                   'speed_mph':'Speed_mph',\n",
    "                   'height_ft':'Height_ft',\n",
    "                   'Inversions_clean':'Inversions',\n",
    "                   'Gforce_clean':'Gforce'})"
   ]
  },
  {
   "cell_type": "code",
   "execution_count": 12,
   "id": "e068cc2a",
   "metadata": {
    "execution": {
     "iopub.execute_input": "2021-12-31T22:25:25.305008Z",
     "iopub.status.busy": "2021-12-31T22:25:25.304166Z",
     "iopub.status.idle": "2021-12-31T22:25:25.312365Z",
     "shell.execute_reply": "2021-12-31T22:25:25.311825Z",
     "shell.execute_reply.started": "2021-12-31T19:07:47.744749Z"
    },
    "papermill": {
     "duration": 0.03178,
     "end_time": "2021-12-31T22:25:25.312501",
     "exception": false,
     "start_time": "2021-12-31T22:25:25.280721",
     "status": "completed"
    },
    "tags": []
   },
   "outputs": [
    {
     "data": {
      "text/plain": [
       "Coaster_Name         0\n",
       "Location             0\n",
       "Status             213\n",
       "Manufacturer        59\n",
       "Year_Introduced      0\n",
       "latitude           275\n",
       "longitude          275\n",
       "Type_Main            0\n",
       "Opening_Date       250\n",
       "Speed_mph          150\n",
       "Height_ft          916\n",
       "Inversions           0\n",
       "Gforce             725\n",
       "dtype: int64"
      ]
     },
     "execution_count": 12,
     "metadata": {},
     "output_type": "execute_result"
    }
   ],
   "source": [
    "df.isna().sum()"
   ]
  },
  {
   "cell_type": "code",
   "execution_count": 13,
   "id": "378e91d2",
   "metadata": {
    "execution": {
     "iopub.execute_input": "2021-12-31T22:25:25.358756Z",
     "iopub.status.busy": "2021-12-31T22:25:25.358167Z",
     "iopub.status.idle": "2021-12-31T22:25:25.373403Z",
     "shell.execute_reply": "2021-12-31T22:25:25.373813Z",
     "shell.execute_reply.started": "2021-12-31T19:09:09.230776Z"
    },
    "papermill": {
     "duration": 0.040119,
     "end_time": "2021-12-31T22:25:25.373985",
     "exception": false,
     "start_time": "2021-12-31T22:25:25.333866",
     "status": "completed"
    },
    "tags": []
   },
   "outputs": [
    {
     "data": {
      "text/html": [
       "<div>\n",
       "<style scoped>\n",
       "    .dataframe tbody tr th:only-of-type {\n",
       "        vertical-align: middle;\n",
       "    }\n",
       "\n",
       "    .dataframe tbody tr th {\n",
       "        vertical-align: top;\n",
       "    }\n",
       "\n",
       "    .dataframe thead th {\n",
       "        text-align: right;\n",
       "    }\n",
       "</style>\n",
       "<table border=\"1\" class=\"dataframe\">\n",
       "  <thead>\n",
       "    <tr style=\"text-align: right;\">\n",
       "      <th></th>\n",
       "      <th>Coaster_Name</th>\n",
       "      <th>Location</th>\n",
       "      <th>Status</th>\n",
       "      <th>Manufacturer</th>\n",
       "      <th>Year_Introduced</th>\n",
       "      <th>latitude</th>\n",
       "      <th>longitude</th>\n",
       "      <th>Type_Main</th>\n",
       "      <th>Opening_Date</th>\n",
       "      <th>Speed_mph</th>\n",
       "      <th>Height_ft</th>\n",
       "      <th>Inversions</th>\n",
       "      <th>Gforce</th>\n",
       "    </tr>\n",
       "  </thead>\n",
       "  <tbody>\n",
       "  </tbody>\n",
       "</table>\n",
       "</div>"
      ],
      "text/plain": [
       "Empty DataFrame\n",
       "Columns: [Coaster_Name, Location, Status, Manufacturer, Year_Introduced, latitude, longitude, Type_Main, Opening_Date, Speed_mph, Height_ft, Inversions, Gforce]\n",
       "Index: []"
      ]
     },
     "execution_count": 13,
     "metadata": {},
     "output_type": "execute_result"
    }
   ],
   "source": [
    "df.loc[df.duplicated()]"
   ]
  },
  {
   "cell_type": "code",
   "execution_count": 14,
   "id": "8d156289",
   "metadata": {
    "execution": {
     "iopub.execute_input": "2021-12-31T22:25:25.419861Z",
     "iopub.status.busy": "2021-12-31T22:25:25.419346Z",
     "iopub.status.idle": "2021-12-31T22:25:25.435586Z",
     "shell.execute_reply": "2021-12-31T22:25:25.436110Z",
     "shell.execute_reply.started": "2021-12-31T19:10:13.801525Z"
    },
    "papermill": {
     "duration": 0.04066,
     "end_time": "2021-12-31T22:25:25.436269",
     "exception": false,
     "start_time": "2021-12-31T22:25:25.395609",
     "status": "completed"
    },
    "tags": []
   },
   "outputs": [
    {
     "data": {
      "text/html": [
       "<div>\n",
       "<style scoped>\n",
       "    .dataframe tbody tr th:only-of-type {\n",
       "        vertical-align: middle;\n",
       "    }\n",
       "\n",
       "    .dataframe tbody tr th {\n",
       "        vertical-align: top;\n",
       "    }\n",
       "\n",
       "    .dataframe thead th {\n",
       "        text-align: right;\n",
       "    }\n",
       "</style>\n",
       "<table border=\"1\" class=\"dataframe\">\n",
       "  <thead>\n",
       "    <tr style=\"text-align: right;\">\n",
       "      <th></th>\n",
       "      <th>Coaster_Name</th>\n",
       "      <th>Location</th>\n",
       "      <th>Status</th>\n",
       "      <th>Manufacturer</th>\n",
       "      <th>Year_Introduced</th>\n",
       "      <th>latitude</th>\n",
       "      <th>longitude</th>\n",
       "      <th>Type_Main</th>\n",
       "      <th>Opening_Date</th>\n",
       "      <th>Speed_mph</th>\n",
       "      <th>Height_ft</th>\n",
       "      <th>Inversions</th>\n",
       "      <th>Gforce</th>\n",
       "    </tr>\n",
       "  </thead>\n",
       "  <tbody>\n",
       "    <tr>\n",
       "      <th>43</th>\n",
       "      <td>Crystal Beach Cyclone</td>\n",
       "      <td>Crystal Beach Park</td>\n",
       "      <td>Removed</td>\n",
       "      <td>Traver Engineering</td>\n",
       "      <td>1927</td>\n",
       "      <td>42.8617</td>\n",
       "      <td>-79.0598</td>\n",
       "      <td>Wood</td>\n",
       "      <td>1926-01-01</td>\n",
       "      <td>60.0</td>\n",
       "      <td>NaN</td>\n",
       "      <td>0</td>\n",
       "      <td>4.0</td>\n",
       "    </tr>\n",
       "    <tr>\n",
       "      <th>60</th>\n",
       "      <td>Derby Racer</td>\n",
       "      <td>Revere Beach</td>\n",
       "      <td>Removed</td>\n",
       "      <td>Fred W. Pearce</td>\n",
       "      <td>1937</td>\n",
       "      <td>42.4200</td>\n",
       "      <td>-70.9860</td>\n",
       "      <td>Wood</td>\n",
       "      <td>1911-01-01</td>\n",
       "      <td>NaN</td>\n",
       "      <td>NaN</td>\n",
       "      <td>0</td>\n",
       "      <td>NaN</td>\n",
       "    </tr>\n",
       "    <tr>\n",
       "      <th>61</th>\n",
       "      <td>Blue Streak (Conneaut Lake)</td>\n",
       "      <td>Conneaut Lake Park</td>\n",
       "      <td>Closed</td>\n",
       "      <td>NaN</td>\n",
       "      <td>1938</td>\n",
       "      <td>41.6349</td>\n",
       "      <td>-80.3180</td>\n",
       "      <td>Wood</td>\n",
       "      <td>1938-05-23</td>\n",
       "      <td>50.0</td>\n",
       "      <td>NaN</td>\n",
       "      <td>0</td>\n",
       "      <td>NaN</td>\n",
       "    </tr>\n",
       "    <tr>\n",
       "      <th>167</th>\n",
       "      <td>Big Thunder Mountain Railroad</td>\n",
       "      <td>Other</td>\n",
       "      <td>NaN</td>\n",
       "      <td>Arrow Development (California and Florida)Dyna...</td>\n",
       "      <td>1980</td>\n",
       "      <td>NaN</td>\n",
       "      <td>NaN</td>\n",
       "      <td>Steel</td>\n",
       "      <td>NaT</td>\n",
       "      <td>35.0</td>\n",
       "      <td>NaN</td>\n",
       "      <td>0</td>\n",
       "      <td>NaN</td>\n",
       "    </tr>\n",
       "    <tr>\n",
       "      <th>237</th>\n",
       "      <td>Thunder Run (Canada's Wonderland)</td>\n",
       "      <td>Canada's Wonderland</td>\n",
       "      <td>Operating</td>\n",
       "      <td>Mack Rides</td>\n",
       "      <td>1986</td>\n",
       "      <td>43.8427</td>\n",
       "      <td>-79.5423</td>\n",
       "      <td>Steel</td>\n",
       "      <td>1981-05-23</td>\n",
       "      <td>39.8</td>\n",
       "      <td>32.8</td>\n",
       "      <td>0</td>\n",
       "      <td>NaN</td>\n",
       "    </tr>\n",
       "  </tbody>\n",
       "</table>\n",
       "</div>"
      ],
      "text/plain": [
       "                          Coaster_Name             Location     Status  \\\n",
       "43               Crystal Beach Cyclone   Crystal Beach Park    Removed   \n",
       "60                         Derby Racer         Revere Beach    Removed   \n",
       "61         Blue Streak (Conneaut Lake)   Conneaut Lake Park     Closed   \n",
       "167      Big Thunder Mountain Railroad                Other        NaN   \n",
       "237  Thunder Run (Canada's Wonderland)  Canada's Wonderland  Operating   \n",
       "\n",
       "                                          Manufacturer  Year_Introduced  \\\n",
       "43                                  Traver Engineering             1927   \n",
       "60                                      Fred W. Pearce             1937   \n",
       "61                                                 NaN             1938   \n",
       "167  Arrow Development (California and Florida)Dyna...             1980   \n",
       "237                                         Mack Rides             1986   \n",
       "\n",
       "     latitude  longitude Type_Main Opening_Date  Speed_mph  Height_ft  \\\n",
       "43    42.8617   -79.0598      Wood   1926-01-01       60.0        NaN   \n",
       "60    42.4200   -70.9860      Wood   1911-01-01        NaN        NaN   \n",
       "61    41.6349   -80.3180      Wood   1938-05-23       50.0        NaN   \n",
       "167       NaN        NaN     Steel          NaT       35.0        NaN   \n",
       "237   43.8427   -79.5423     Steel   1981-05-23       39.8       32.8   \n",
       "\n",
       "     Inversions  Gforce  \n",
       "43            0     4.0  \n",
       "60            0     NaN  \n",
       "61            0     NaN  \n",
       "167           0     NaN  \n",
       "237           0     NaN  "
      ]
     },
     "execution_count": 14,
     "metadata": {},
     "output_type": "execute_result"
    }
   ],
   "source": [
    "df.loc[df.duplicated(subset=['Coaster_Name'])].head(5)"
   ]
  },
  {
   "cell_type": "code",
   "execution_count": 15,
   "id": "dc67389f",
   "metadata": {
    "execution": {
     "iopub.execute_input": "2021-12-31T22:25:25.483066Z",
     "iopub.status.busy": "2021-12-31T22:25:25.482481Z",
     "iopub.status.idle": "2021-12-31T22:25:25.498934Z",
     "shell.execute_reply": "2021-12-31T22:25:25.498513Z",
     "shell.execute_reply.started": "2021-12-31T19:11:30.916597Z"
    },
    "papermill": {
     "duration": 0.040619,
     "end_time": "2021-12-31T22:25:25.499081",
     "exception": false,
     "start_time": "2021-12-31T22:25:25.458462",
     "status": "completed"
    },
    "tags": []
   },
   "outputs": [
    {
     "data": {
      "text/html": [
       "<div>\n",
       "<style scoped>\n",
       "    .dataframe tbody tr th:only-of-type {\n",
       "        vertical-align: middle;\n",
       "    }\n",
       "\n",
       "    .dataframe tbody tr th {\n",
       "        vertical-align: top;\n",
       "    }\n",
       "\n",
       "    .dataframe thead th {\n",
       "        text-align: right;\n",
       "    }\n",
       "</style>\n",
       "<table border=\"1\" class=\"dataframe\">\n",
       "  <thead>\n",
       "    <tr style=\"text-align: right;\">\n",
       "      <th></th>\n",
       "      <th>Coaster_Name</th>\n",
       "      <th>Location</th>\n",
       "      <th>Status</th>\n",
       "      <th>Manufacturer</th>\n",
       "      <th>Year_Introduced</th>\n",
       "      <th>latitude</th>\n",
       "      <th>longitude</th>\n",
       "      <th>Type_Main</th>\n",
       "      <th>Opening_Date</th>\n",
       "      <th>Speed_mph</th>\n",
       "      <th>Height_ft</th>\n",
       "      <th>Inversions</th>\n",
       "      <th>Gforce</th>\n",
       "    </tr>\n",
       "  </thead>\n",
       "  <tbody>\n",
       "    <tr>\n",
       "      <th>39</th>\n",
       "      <td>Crystal Beach Cyclone</td>\n",
       "      <td>Crystal Beach Park</td>\n",
       "      <td>Removed</td>\n",
       "      <td>Traver Engineering</td>\n",
       "      <td>1926</td>\n",
       "      <td>42.8617</td>\n",
       "      <td>-79.0598</td>\n",
       "      <td>Wood</td>\n",
       "      <td>1926-01-01</td>\n",
       "      <td>60.0</td>\n",
       "      <td>NaN</td>\n",
       "      <td>0</td>\n",
       "      <td>4.0</td>\n",
       "    </tr>\n",
       "    <tr>\n",
       "      <th>43</th>\n",
       "      <td>Crystal Beach Cyclone</td>\n",
       "      <td>Crystal Beach Park</td>\n",
       "      <td>Removed</td>\n",
       "      <td>Traver Engineering</td>\n",
       "      <td>1927</td>\n",
       "      <td>42.8617</td>\n",
       "      <td>-79.0598</td>\n",
       "      <td>Wood</td>\n",
       "      <td>1926-01-01</td>\n",
       "      <td>60.0</td>\n",
       "      <td>NaN</td>\n",
       "      <td>0</td>\n",
       "      <td>4.0</td>\n",
       "    </tr>\n",
       "  </tbody>\n",
       "</table>\n",
       "</div>"
      ],
      "text/plain": [
       "             Coaster_Name            Location   Status        Manufacturer  \\\n",
       "39  Crystal Beach Cyclone  Crystal Beach Park  Removed  Traver Engineering   \n",
       "43  Crystal Beach Cyclone  Crystal Beach Park  Removed  Traver Engineering   \n",
       "\n",
       "    Year_Introduced  latitude  longitude Type_Main Opening_Date  Speed_mph  \\\n",
       "39             1926   42.8617   -79.0598      Wood   1926-01-01       60.0   \n",
       "43             1927   42.8617   -79.0598      Wood   1926-01-01       60.0   \n",
       "\n",
       "    Height_ft  Inversions  Gforce  \n",
       "39        NaN           0     4.0  \n",
       "43        NaN           0     4.0  "
      ]
     },
     "execution_count": 15,
     "metadata": {},
     "output_type": "execute_result"
    }
   ],
   "source": [
    "df.query('Coaster_Name == \"Crystal Beach Cyclone\"')"
   ]
  },
  {
   "cell_type": "code",
   "execution_count": 16,
   "id": "be1ed022",
   "metadata": {
    "execution": {
     "iopub.execute_input": "2021-12-31T22:25:25.549542Z",
     "iopub.status.busy": "2021-12-31T22:25:25.548916Z",
     "iopub.status.idle": "2021-12-31T22:25:25.552234Z",
     "shell.execute_reply": "2021-12-31T22:25:25.551747Z",
     "shell.execute_reply.started": "2021-12-31T19:11:46.198003Z"
    },
    "papermill": {
     "duration": 0.030624,
     "end_time": "2021-12-31T22:25:25.552360",
     "exception": false,
     "start_time": "2021-12-31T22:25:25.521736",
     "status": "completed"
    },
    "tags": []
   },
   "outputs": [
    {
     "data": {
      "text/plain": [
       "Index(['Coaster_Name', 'Location', 'Status', 'Manufacturer', 'Year_Introduced',\n",
       "       'latitude', 'longitude', 'Type_Main', 'Opening_Date', 'Speed_mph',\n",
       "       'Height_ft', 'Inversions', 'Gforce'],\n",
       "      dtype='object')"
      ]
     },
     "execution_count": 16,
     "metadata": {},
     "output_type": "execute_result"
    }
   ],
   "source": [
    "df.columns"
   ]
  },
  {
   "cell_type": "code",
   "execution_count": 17,
   "id": "d033284f",
   "metadata": {
    "execution": {
     "iopub.execute_input": "2021-12-31T22:25:25.603179Z",
     "iopub.status.busy": "2021-12-31T22:25:25.602516Z",
     "iopub.status.idle": "2021-12-31T22:25:25.606940Z",
     "shell.execute_reply": "2021-12-31T22:25:25.607364Z",
     "shell.execute_reply.started": "2021-12-31T19:13:58.914669Z"
    },
    "papermill": {
     "duration": 0.032432,
     "end_time": "2021-12-31T22:25:25.607520",
     "exception": false,
     "start_time": "2021-12-31T22:25:25.575088",
     "status": "completed"
    },
    "tags": []
   },
   "outputs": [],
   "source": [
    "df = df.loc[~df.duplicated(subset=['Coaster_Name','Location','Opening_Date'])] \\\n",
    "    .reset_index(drop=True).copy()"
   ]
  },
  {
   "cell_type": "code",
   "execution_count": 18,
   "id": "1cf49ef5",
   "metadata": {
    "execution": {
     "iopub.execute_input": "2021-12-31T22:25:25.704940Z",
     "iopub.status.busy": "2021-12-31T22:25:25.704318Z",
     "iopub.status.idle": "2021-12-31T22:25:25.709222Z",
     "shell.execute_reply": "2021-12-31T22:25:25.708744Z",
     "shell.execute_reply.started": "2021-12-31T19:15:42.180508Z"
    },
    "papermill": {
     "duration": 0.03309,
     "end_time": "2021-12-31T22:25:25.709352",
     "exception": false,
     "start_time": "2021-12-31T22:25:25.676262",
     "status": "completed"
    },
    "tags": []
   },
   "outputs": [
    {
     "data": {
      "text/plain": [
       "1999    46\n",
       "2000    45\n",
       "1998    30\n",
       "2001    29\n",
       "2002    28\n",
       "        ..\n",
       "1956     1\n",
       "1959     1\n",
       "1961     1\n",
       "1895     1\n",
       "1884     1\n",
       "Name: Year_Introduced, Length: 101, dtype: int64"
      ]
     },
     "execution_count": 18,
     "metadata": {},
     "output_type": "execute_result"
    }
   ],
   "source": [
    "df['Year_Introduced'].value_counts()"
   ]
  },
  {
   "cell_type": "code",
   "execution_count": 19,
   "id": "60ac9c37",
   "metadata": {
    "execution": {
     "iopub.execute_input": "2021-12-31T22:25:25.761588Z",
     "iopub.status.busy": "2021-12-31T22:25:25.758698Z",
     "iopub.status.idle": "2021-12-31T22:25:26.016020Z",
     "shell.execute_reply": "2021-12-31T22:25:26.015182Z",
     "shell.execute_reply.started": "2021-12-31T19:18:37.875615Z"
    },
    "papermill": {
     "duration": 0.283261,
     "end_time": "2021-12-31T22:25:26.016166",
     "exception": false,
     "start_time": "2021-12-31T22:25:25.732905",
     "status": "completed"
    },
    "tags": []
   },
   "outputs": [
    {
     "data": {
      "text/plain": [
       "Text(0, 0.5, 'Count')"
      ]
     },
     "execution_count": 19,
     "metadata": {},
     "output_type": "execute_result"
    },
    {
     "data": {
      "image/png": "[encoded data removed]",
      "text/plain": [
       "<Figure size 432x288 with 1 Axes>"
      ]
     },
     "metadata": {},
     "output_type": "display_data"
    }
   ],
   "source": [
    "ax = df['Year_Introduced'].value_counts() \\\n",
    "    .head(10) \\\n",
    "    .plot(kind='bar', title='Top 10 Years Coasters Introduced')\n",
    "ax.set_xlabel('Year Introduced')\n",
    "ax.set_ylabel('Count')"
   ]
  },
  {
   "cell_type": "code",
   "execution_count": 20,
   "id": "604b61d4",
   "metadata": {
    "execution": {
     "iopub.execute_input": "2021-12-31T22:25:26.068141Z",
     "iopub.status.busy": "2021-12-31T22:25:26.067238Z",
     "iopub.status.idle": "2021-12-31T22:25:26.334355Z",
     "shell.execute_reply": "2021-12-31T22:25:26.334770Z",
     "shell.execute_reply.started": "2021-12-31T19:23:10.802718Z"
    },
    "papermill": {
     "duration": 0.294699,
     "end_time": "2021-12-31T22:25:26.334934",
     "exception": false,
     "start_time": "2021-12-31T22:25:26.040235",
     "status": "completed"
    },
    "tags": []
   },
   "outputs": [
    {
     "data": {
      "text/plain": [
       "Text(0.5, 0, 'Speed (mph)')"
      ]
     },
     "execution_count": 20,
     "metadata": {},
     "output_type": "execute_result"
    },
    {
     "data": {
      "image/png": "[encoded data removed]",
      "text/plain": [
       "<Figure size 432x288 with 1 Axes>"
      ]
     },
     "metadata": {},
     "output_type": "display_data"
    }
   ],
   "source": [
    "ax = df['Speed_mph'].plot(kind='hist',\n",
    "                          bins=20,\n",
    "                          title='Coaster Speed (mph)')\n",
    "ax.set_xlabel('Speed (mph)')"
   ]
  },
  {
   "cell_type": "code",
   "execution_count": 21,
   "id": "e6967adb",
   "metadata": {
    "execution": {
     "iopub.execute_input": "2021-12-31T22:25:26.388882Z",
     "iopub.status.busy": "2021-12-31T22:25:26.388004Z",
     "iopub.status.idle": "2021-12-31T22:25:26.559375Z",
     "shell.execute_reply": "2021-12-31T22:25:26.558894Z",
     "shell.execute_reply.started": "2021-12-31T19:23:50.580693Z"
    },
    "papermill": {
     "duration": 0.199427,
     "end_time": "2021-12-31T22:25:26.559519",
     "exception": false,
     "start_time": "2021-12-31T22:25:26.360092",
     "status": "completed"
    },
    "tags": []
   },
   "outputs": [
    {
     "data": {
      "text/plain": [
       "Text(0.5, 0, 'Speed (mph)')"
      ]
     },
     "execution_count": 21,
     "metadata": {},
     "output_type": "execute_result"
    },
    {
     "data": {
      "image/png": "[encoded data removed]",
      "text/plain": [
       "<Figure size 432x288 with 1 Axes>"
      ]
     },
     "metadata": {},
     "output_type": "display_data"
    }
   ],
   "source": [
    "ax = df['Speed_mph'].plot(kind='kde',\n",
    "                          title='Coaster Speed (mph)')\n",
    "ax.set_xlabel('Speed (mph)')"
   ]
  },
  {
   "cell_type": "code",
   "execution_count": 22,
   "id": "56459691",
   "metadata": {
    "execution": {
     "iopub.execute_input": "2021-12-31T22:25:26.619887Z",
     "iopub.status.busy": "2021-12-31T22:25:26.619236Z",
     "iopub.status.idle": "2021-12-31T22:25:26.622178Z",
     "shell.execute_reply": "2021-12-31T22:25:26.622604Z",
     "shell.execute_reply.started": "2021-12-31T19:24:46.445719Z"
    },
    "papermill": {
     "duration": 0.03705,
     "end_time": "2021-12-31T22:25:26.622753",
     "exception": false,
     "start_time": "2021-12-31T22:25:26.585703",
     "status": "completed"
    },
    "tags": []
   },
   "outputs": [
    {
     "data": {
      "text/plain": [
       "Steel    728\n",
       "Wood     191\n",
       "Other     71\n",
       "Name: Type_Main, dtype: int64"
      ]
     },
     "execution_count": 22,
     "metadata": {},
     "output_type": "execute_result"
    }
   ],
   "source": [
    "df['Type_Main'].value_counts()"
   ]
  },
  {
   "cell_type": "code",
   "execution_count": 23,
   "id": "017fd725",
   "metadata": {
    "execution": {
     "iopub.execute_input": "2021-12-31T22:25:26.731253Z",
     "iopub.status.busy": "2021-12-31T22:25:26.730368Z",
     "iopub.status.idle": "2021-12-31T22:25:26.883930Z",
     "shell.execute_reply": "2021-12-31T22:25:26.884448Z",
     "shell.execute_reply.started": "2021-12-31T19:28:27.768721Z"
    },
    "papermill": {
     "duration": 0.183301,
     "end_time": "2021-12-31T22:25:26.884625",
     "exception": false,
     "start_time": "2021-12-31T22:25:26.701324",
     "status": "completed"
    },
    "tags": []
   },
   "outputs": [
    {
     "data": {
      "image/png": "[encoded data removed]",
      "text/plain": [
       "<Figure size 432x288 with 1 Axes>"
      ]
     },
     "metadata": {},
     "output_type": "display_data"
    }
   ],
   "source": [
    "df.plot(kind='scatter',\n",
    "        x='Speed_mph',\n",
    "        y='Height_ft',\n",
    "        title='Coaster Speed vs. Height')\n",
    "plt.show()"
   ]
  },
  {
   "cell_type": "code",
   "execution_count": 24,
   "id": "b3ff4047",
   "metadata": {
    "execution": {
     "iopub.execute_input": "2021-12-31T22:25:26.947838Z",
     "iopub.status.busy": "2021-12-31T22:25:26.946904Z",
     "iopub.status.idle": "2021-12-31T22:25:27.207770Z",
     "shell.execute_reply": "2021-12-31T22:25:27.208181Z",
     "shell.execute_reply.started": "2021-12-31T19:33:28.681729Z"
    },
    "papermill": {
     "duration": 0.295762,
     "end_time": "2021-12-31T22:25:27.208343",
     "exception": false,
     "start_time": "2021-12-31T22:25:26.912581",
     "status": "completed"
    },
    "tags": []
   },
   "outputs": [
    {
     "data": {
      "image/png": "[encoded data removed]",
      "text/plain": [
       "<Figure size 432x288 with 1 Axes>"
      ]
     },
     "metadata": {},
     "output_type": "display_data"
    }
   ],
   "source": [
    "ax = sns.scatterplot(x='Speed_mph',\n",
    "                y='Height_ft',\n",
    "                hue='Year_Introduced',\n",
    "                data=df)\n",
    "ax.set_title('Coaster Speed vs. Height')\n",
    "plt.show()"
   ]
  },
  {
   "cell_type": "code",
   "execution_count": 26,
   "id": "4ce8a3ac",
   "metadata": {
    "execution": {
     "iopub.execute_input": "2021-12-31T22:25:33.754241Z",
     "iopub.status.busy": "2021-12-31T22:25:33.753485Z",
     "iopub.status.idle": "2021-12-31T22:25:33.755837Z",
     "shell.execute_reply": "2021-12-31T22:25:33.756377Z",
     "shell.execute_reply.started": "2021-12-31T19:46:48.887613Z"
    },
    "papermill": {
     "duration": 0.053233,
     "end_time": "2021-12-31T22:25:33.756533",
     "exception": false,
     "start_time": "2021-12-31T22:25:33.703300",
     "status": "completed"
    },
    "tags": []
   },
   "outputs": [
    {
     "data": {
      "text/html": [
       "<div>\n",
       "<style scoped>\n",
       "    .dataframe tbody tr th:only-of-type {\n",
       "        vertical-align: middle;\n",
       "    }\n",
       "\n",
       "    .dataframe tbody tr th {\n",
       "        vertical-align: top;\n",
       "    }\n",
       "\n",
       "    .dataframe thead th {\n",
       "        text-align: right;\n",
       "    }\n",
       "</style>\n",
       "<table border=\"1\" class=\"dataframe\">\n",
       "  <thead>\n",
       "    <tr style=\"text-align: right;\">\n",
       "      <th></th>\n",
       "      <th>Year_Introduced</th>\n",
       "      <th>Speed_mph</th>\n",
       "      <th>Height_ft</th>\n",
       "      <th>Inversions</th>\n",
       "      <th>Gforce</th>\n",
       "    </tr>\n",
       "  </thead>\n",
       "  <tbody>\n",
       "    <tr>\n",
       "      <th>Year_Introduced</th>\n",
       "      <td>1.000000</td>\n",
       "      <td>0.171978</td>\n",
       "      <td>0.135413</td>\n",
       "      <td>-0.209887</td>\n",
       "      <td>0.160247</td>\n",
       "    </tr>\n",
       "    <tr>\n",
       "      <th>Speed_mph</th>\n",
       "      <td>0.171978</td>\n",
       "      <td>1.000000</td>\n",
       "      <td>0.733999</td>\n",
       "      <td>-0.028705</td>\n",
       "      <td>0.607383</td>\n",
       "    </tr>\n",
       "    <tr>\n",
       "      <th>Height_ft</th>\n",
       "      <td>0.135413</td>\n",
       "      <td>0.733999</td>\n",
       "      <td>1.000000</td>\n",
       "      <td>-0.079736</td>\n",
       "      <td>0.466482</td>\n",
       "    </tr>\n",
       "    <tr>\n",
       "      <th>Inversions</th>\n",
       "      <td>-0.209887</td>\n",
       "      <td>-0.028705</td>\n",
       "      <td>-0.079736</td>\n",
       "      <td>1.000000</td>\n",
       "      <td>0.275991</td>\n",
       "    </tr>\n",
       "    <tr>\n",
       "      <th>Gforce</th>\n",
       "      <td>0.160247</td>\n",
       "      <td>0.607383</td>\n",
       "      <td>0.466482</td>\n",
       "      <td>0.275991</td>\n",
       "      <td>1.000000</td>\n",
       "    </tr>\n",
       "  </tbody>\n",
       "</table>\n",
       "</div>"
      ],
      "text/plain": [
       "                 Year_Introduced  Speed_mph  Height_ft  Inversions    Gforce\n",
       "Year_Introduced         1.000000   0.171978   0.135413   -0.209887  0.160247\n",
       "Speed_mph               0.171978   1.000000   0.733999   -0.028705  0.607383\n",
       "Height_ft               0.135413   0.733999   1.000000   -0.079736  0.466482\n",
       "Inversions             -0.209887  -0.028705  -0.079736    1.000000  0.275991\n",
       "Gforce                  0.160247   0.607383   0.466482    0.275991  1.000000"
      ]
     },
     "execution_count": 26,
     "metadata": {},
     "output_type": "execute_result"
    }
   ],
   "source": [
    "df_corr = df[['Year_Introduced','Speed_mph',\n",
    "    'Height_ft','Inversions','Gforce']].dropna().corr()\n",
    "df_corr"
   ]
  },
  {
   "cell_type": "code",
   "execution_count": 27,
   "id": "90c955f3",
   "metadata": {
    "execution": {
     "iopub.execute_input": "2021-12-31T22:25:33.835402Z",
     "iopub.status.busy": "2021-12-31T22:25:33.834798Z",
     "iopub.status.idle": "2021-12-31T22:25:34.097825Z",
     "shell.execute_reply": "2021-12-31T22:25:34.098327Z",
     "shell.execute_reply.started": "2021-12-31T19:47:08.677308Z"
    },
    "papermill": {
     "duration": 0.305333,
     "end_time": "2021-12-31T22:25:34.098497",
     "exception": false,
     "start_time": "2021-12-31T22:25:33.793164",
     "status": "completed"
    },
    "tags": []
   },
   "outputs": [
    {
     "data": {
      "text/plain": [
       "<AxesSubplot:>"
      ]
     },
     "execution_count": 27,
     "metadata": {},
     "output_type": "execute_result"
    },
    {
     "data": {
      "image/png": "[encoded data removed]",
      "text/plain": [
       "<Figure size 432x288 with 2 Axes>"
      ]
     },
     "metadata": {},
     "output_type": "display_data"
    }
   ],
   "source": [
    "sns.heatmap(df_corr, annot=True)"
   ]
  },
  {
   "cell_type": "code",
   "execution_count": 28,
   "id": "5d4b651a",
   "metadata": {
    "execution": {
     "iopub.execute_input": "2021-12-31T22:25:34.256120Z",
     "iopub.status.busy": "2021-12-31T22:25:34.255501Z",
     "iopub.status.idle": "2021-12-31T22:25:34.597366Z",
     "shell.execute_reply": "2021-12-31T22:25:34.596787Z",
     "shell.execute_reply.started": "2021-12-31T20:12:48.583584Z"
    },
    "papermill": {
     "duration": 0.382299,
     "end_time": "2021-12-31T22:25:34.597495",
     "exception": false,
     "start_time": "2021-12-31T22:25:34.215196",
     "status": "completed"
    },
    "tags": []
   },
   "outputs": [
    {
     "data": {
      "image/png": "[encoded data removed]",
      "text/plain": [
       "<Figure size 864x360 with 1 Axes>"
      ]
     },
     "metadata": {},
     "output_type": "display_data"
    }
   ],
   "source": [
    "ax = df.query('Location != \"Other\"') \\\n",
    "    .groupby('Location')['Speed_mph'] \\\n",
    "    .agg(['mean','count']) \\\n",
    "    .query('count >= 10') \\\n",
    "    .sort_values('mean')['mean'] \\\n",
    "    .plot(kind='barh', figsize=(12, 5), title='Average Coast Speed by Location')\n",
    "ax.set_xlabel('Average Coaster Speed')\n",
    "plt.show()"
   ]
  }
 ],
 "metadata": {
  "kernelspec": {
   "display_name": "Python 3 (ipykernel)",
   "language": "python",
   "name": "python3"
  },
  "language_info": {
   "codemirror_mode": {
    "name": "ipython",
    "version": 3
   },
   "file_extension": ".py",
   "mimetype": "text/x-python",
   "name": "python",
   "nbconvert_exporter": "python",
   "pygments_lexer": "ipython3",
   "version": "3.12.4"
  },
  "papermill": {
   "default_parameters": {},
   "duration": 19.951116,
   "end_time": "2021-12-31T22:25:35.346596",
   "environment_variables": {},
   "exception": null,
   "input_path": "__notebook__.ipynb",
   "output_path": "__notebook__.ipynb",
   "parameters": {},
   "start_time": "2021-12-31T22:25:15.395480",
   "version": "2.3.3"
  }
 },
 "nbformat": 4,
 "nbformat_minor": 5
}
